{
    "nbformat_minor": 1, 
    "cells": [
        {
            "source": "Aim: This project is aimed to make your travel experience to Las Vegas Simple by Providing all nearby locations of nightlife fun spots with help of Foursquare datasets.\n\nProblem Statement Many people come to Las Vegas each day and experience difficulty in choosing between the best and the not so known night out places. Here I and other foursquare users would try and help them with their tips and ratings for each place and help people enjoy most of their time rather fear losing something in the fake casinos\n\nObjectives: First of all, the geojson data for Las Vegas's neighborhood is required. 2] Then, analyzing the data using the Foursquare API. 3] Use clustering to identify each area and its category. Data Source we are going to use is from Foursquare. Foursquare is a technology company that uses location intelligence to build meaningful consumer experiences and business solutions. So We are going to build a project with the help of Foursquare location data, Foursquare API provides great amount of quality data\u2019s about locations.(cafe, restaurant etc) Using this data will allow tourists to easily decide where to go when they are in a specific city. Using techniques such as K-means clustering, I was able to get results about common venues in city. This information can be really helpful to tourists since they can focus on what they are trying to experience most during their Travel .(Food, culture, sport etc) These techniques also provides the visualization of clustering of city. k-means clustering is a method of vector quantization, originally from signal processing, that is popular for cluster analysis in data mining. k-means clustering aims to partition n observations into k clusters in which each observation belongs to the cluster with the nearest mean, serving as a prototype of the cluster. This results in a partitioning of the data space into Voronoi cells\n\nConclusion So using Foursqaure data set I have successfully created a way to know all the location information handy, information such as casinos,cafes and hotels, venues are easily accessible using data science methodology", 
            "cell_type": "markdown", 
            "metadata": {
                "collapsed": true
            }
        }, 
        {
            "execution_count": 2, 
            "cell_type": "code", 
            "metadata": {}, 
            "outputs": [
                {
                    "output_type": "stream", 
                    "name": "stdout", 
                    "text": "Solving environment: done\n\n# All requested packages already installed.\n\nSolving environment: done\n\n# All requested packages already installed.\n\nRequirement already satisfied: folium in /opt/conda/envs/Python36/lib/python3.6/site-packages (0.5.0)\nRequirement already satisfied: branca in /opt/conda/envs/Python36/lib/python3.6/site-packages (from folium) (0.3.1)\nRequirement already satisfied: jinja2 in /opt/conda/envs/Python36/lib/python3.6/site-packages (from folium) (2.10)\nRequirement already satisfied: requests in /opt/conda/envs/Python36/lib/python3.6/site-packages (from folium) (2.21.0)\nRequirement already satisfied: six in /opt/conda/envs/Python36/lib/python3.6/site-packages (from folium) (1.12.0)\nRequirement already satisfied: MarkupSafe>=0.23 in /opt/conda/envs/Python36/lib/python3.6/site-packages (from jinja2->folium) (1.1.0)\nRequirement already satisfied: idna<2.9,>=2.5 in /opt/conda/envs/Python36/lib/python3.6/site-packages (from requests->folium) (2.8)\nRequirement already satisfied: chardet<3.1.0,>=3.0.2 in /opt/conda/envs/Python36/lib/python3.6/site-packages (from requests->folium) (3.0.4)\nRequirement already satisfied: urllib3<1.25,>=1.21.1 in /opt/conda/envs/Python36/lib/python3.6/site-packages (from requests->folium) (1.24.1)\nRequirement already satisfied: certifi>=2017.4.17 in /opt/conda/envs/Python36/lib/python3.6/site-packages (from requests->folium) (2019.6.16)\nAll libraries installed and imported ! \n"
                }
            ], 
            "source": "!conda install -c conda-forge geopy --yes \nfrom geopy.geocoders import Nominatim # module to convert an address into latitude and longitude values\nimport requests # library to handle requests\nimport pandas as pd # library for data analsysis\nimport numpy as np # library to handle data in a vectorized manner\nimport random # library for random number generation\n\n# libraries for displaying images\nfrom IPython.display import Image \nfrom IPython.core.display import HTML \n    \n# tranforming json file into a pandas dataframe library\nfrom pandas.io.json import json_normalize\n\n!conda install -c conda-forge folium=0.5.0 --yes\nimport folium # plotting library\n!pip install folium\nimport requests\nfrom bs4 import BeautifulSoup\nimport lxml\nimport pandas as pd\npd.set_option('display.max_columns', None)\npd.set_option('display.max_rows', None)\nimport numpy as np\nimport json\nfrom geopy.geocoders import Nominatim\nfrom pandas.io.json import json_normalize # tranform JSON file into a pandas dataframev\nimport matplotlib.cm as cm\nimport matplotlib.colors as colors\nfrom sklearn.cluster import KMeans\nimport folium\nprint(\"All libraries installed and imported ! \")"
        }, 
        {
            "execution_count": 3, 
            "cell_type": "code", 
            "metadata": {}, 
            "outputs": [
                {
                    "output_type": "stream", 
                    "name": "stdout", 
                    "text": "Your credentails:\nCLIENT_ID: SOABYOTQMCH1WE5S4VL1QOOLXYT2KVF2N1NFEUK3SBJ53YTQ\nCLIENT_SECRET:VZ1CMDZSZEMKBXZVQMPV0IWGCTC5XDG1FJOVXIOUCO3V5JOD\n"
                }
            ], 
            "source": "CLIENT_ID = 'SOABYOTQMCH1WE5S4VL1QOOLXYT2KVF2N1NFEUK3SBJ53YTQ' # your Foursquare ID\nCLIENT_SECRET = 'VZ1CMDZSZEMKBXZVQMPV0IWGCTC5XDG1FJOVXIOUCO3V5JOD' # your Foursquare Secret\nVERSION = '20180604'\nLIMIT = 30\nprint('Your credentails:')\nprint('CLIENT_ID: ' + CLIENT_ID)\nprint('CLIENT_SECRET:' + CLIENT_SECRET)\n"
        }, 
        {
            "execution_count": 4, 
            "cell_type": "code", 
            "metadata": {}, 
            "outputs": [
                {
                    "ename": "NameError", 
                    "evalue": "name 'dataframe_filtered' is not defined", 
                    "traceback": [
                        "\u001b[0;31m---------------------------------------------------------------------------\u001b[0m", 
                        "\u001b[0;31mNameError\u001b[0m                                 Traceback (most recent call last)", 
                        "\u001b[0;32m<ipython-input-4-da87c47d15e4>\u001b[0m in \u001b[0;36m<module>\u001b[0;34m\u001b[0m\n\u001b[1;32m     24\u001b[0m \u001b[0;34m\u001b[0m\u001b[0m\n\u001b[1;32m     25\u001b[0m \u001b[0;34m\u001b[0m\u001b[0m\n\u001b[0;32m---> 26\u001b[0;31m \u001b[0;32mfor\u001b[0m \u001b[0mlat\u001b[0m\u001b[0;34m,\u001b[0m \u001b[0mlng\u001b[0m\u001b[0;34m,\u001b[0m \u001b[0mlabel\u001b[0m \u001b[0;32min\u001b[0m \u001b[0mzip\u001b[0m\u001b[0;34m(\u001b[0m\u001b[0mdataframe_filtered\u001b[0m\u001b[0;34m.\u001b[0m\u001b[0mlat\u001b[0m\u001b[0;34m,\u001b[0m \u001b[0mdataframe_filtered\u001b[0m\u001b[0;34m.\u001b[0m\u001b[0mlng\u001b[0m\u001b[0;34m,\u001b[0m \u001b[0mdataframe_filtered\u001b[0m\u001b[0;34m.\u001b[0m\u001b[0mcategories\u001b[0m\u001b[0;34m)\u001b[0m\u001b[0;34m:\u001b[0m\u001b[0;34m\u001b[0m\u001b[0;34m\u001b[0m\u001b[0m\n\u001b[0m\u001b[1;32m     27\u001b[0m     folium.features.CircleMarker(\n\u001b[1;32m     28\u001b[0m         \u001b[0;34m[\u001b[0m\u001b[0mlat\u001b[0m\u001b[0;34m,\u001b[0m \u001b[0mlng\u001b[0m\u001b[0;34m]\u001b[0m\u001b[0;34m,\u001b[0m\u001b[0;34m\u001b[0m\u001b[0;34m\u001b[0m\u001b[0m\n", 
                        "\u001b[0;31mNameError\u001b[0m: name 'dataframe_filtered' is not defined"
                    ], 
                    "output_type": "error"
                }
            ], 
            "source": "lat=36.1699\nlong=-115.1398\nradius=500\nurl = 'https://api.foursquare.com/v2/venues/search?client_id={}&client_secret={}&ll={},{}&v={}&query=casino&radius={}&limit={}'.format(CLIENT_ID, CLIENT_SECRET, lat, long, VERSION, radius, LIMIT)\nresults = requests.get(url).json()\nvenues = results['response']['venues']\n\n# tranform venues into a dataframe\ndataframe = json_normalize(venues)\n\n\nvenues_map = folium.Map(location=[lat,long], zoom_start=11) # generate map centred around the Conrad Hotel\nvenues = results['response']['venues']\nfiltered_columns = ['name', 'categories'] + [col for col in dataframe.columns if col.startswith('location.')] + ['id']\ndataframe_filtered = dataframe.loc[:, filtered_columns]\n\ndef get_category_type(row):\n    try:\n        categories_list = row['categories']\n    except:\n        categories_list = row['venue.categories']\n        \n    if len(categories_list) == 0:\n        return None\n    else:\n        return categories_list[0]['name']\n\n# filter the category for each row\ndataframe_filtered['categories'] = dataframe_filtered.apply(get_category_type, axis=1)\n\n# clean column names by keeping only last term\ndataframe_filtered.columns = [column.split('.')[-1] for column in dataframe_filtered.columns]\n\n\n\n# tranform venues into a dataframe\ndataframe = json_normalize(venues)\n\n\n# add a red circle marker to represent the Conrad Hotel\nfolium.features.CircleMarker(\n    [lat, long],\n    radius=10,\n    color='red',\n    popup='Venues',\n    fill = True,\n    fill_color = 'red',\n    fill_opacity = 0.6\n).add_to(venues_map)\n\n\nfor lat, lng, label in zip(dataframe_filtered.lat, dataframe_filtered.lng, dataframe_filtered.categories):\n    folium.features.CircleMarker(\n        [lat, lng],\n        radius=5,\n        color='blue',\n        popup=label,\n        fill = True,\n        fill_color='blue',\n        fill_opacity=0.6\n    ).add_to(venues_map)\n\n# display map\nvenues_map\nvenue_id = '4a431d92f964a5207ca61fe3' # ID of Fremont Hotel & Casino\nurl = 'https://api.foursquare.com/v2/venues/{}?client_id={}&client_secret={}&v={}'.format(venue_id, CLIENT_ID, CLIENT_SECRET, VERSION)\nresult = requests.get(url).json()\nprint(result['response']['venue'].keys())\nresult['response']['venue']\ntry:\n    print(result['response']['venue']['rating'])\nexcept:\n    print('This venue has not been rated yet.')\n\nvenue_id = '45a90a24f964a52020411fe3' # ID of Golden Nugget Hotel & Casino\nurl = 'https://api.foursquare.com/v2/venues/{}?client_id={}&client_secret={}&v={}'.format(venue_id, CLIENT_ID, CLIENT_SECRET, VERSION)\n\nresult = requests.get(url).json()\ntry:\n    print(result['response']['venue']['rating'])\nexcept:\n    print('This venue has not been rated yet.')\n    \nresult['response']['venue']['tips']['count']\ndf=pd.DataFrame({'Name':dataframe_filtered['name']})\ndf['ID']=dataframe_filtered['id']\nid_list=df['ID']\ntype(id_list[0])\ntips=[]\nfor i in id_list:\n    venue_id=i\n    url = 'https://api.foursquare.com/v2/venues/{}?client_id={}&client_secret={}&v={}'.format(venue_id, CLIENT_ID, CLIENT_SECRET, VERSION)\n    result = requests.get(url).json()\n    try:\n        tips.append(result['response']['venue']['rating'])\n    except:\n        tips.append('NA')\n        \n\ndf['Tips']=tips\n\ndf['lat']=dataframe_filtered['lat']\ndf['long']=dataframe_filtered['lng']\nnodf=df\nkclusters = 3\nnewdf=df.drop(['ID','Tips','Name'],axis=1)\nnewdf\nkmeans = KMeans(n_clusters = kclusters, random_state = 0).fit(newdf)\nLV_merged = newdf\n\nfrom random import randint\nrandomArray = []\nfor i in range(0,5):\n    randomArray.append(randint(0,2))\nnewLabels = np.append(kmeans.labels_, randomArray)\ncluslabels=newLabels[5:]\nLV_merged['Cluster Labels'] = cluslabels\nLV_merged['Name']=nodf['Name']\n\nLV_map_clusters = folium.Map(location = [lat,long], zoom_start = 10)\n\n# set color scheme for the clusters\nx = np.arange(kclusters)\nys = [i+x+(i*x)**2 for i in range(kclusters)]\ncolors_array = cm.rainbow(np.linspace(0, 1, len(ys)))\nrainbow = [colors.rgb2hex(i) for i in colors_array]\nmarkers_colors = []\n\nfor lat ,lng, poi, cluster in zip(LV_merged[\"lat\"],LV_merged[\"long\"],LV_merged['Name'],LV_merged['Cluster Labels']):\n    label = folium.Popup(str(poi)+\" Cluster \"+str(cluster), parse_html=True)\n    folium.CircleMarker(\n        [lat,lng],\n        radius=5,\n        popup=label,\n        color=rainbow[cluster-1],\n        fill=True,\n        fill_color=rainbow[cluster-1],\n        fill_opacity=0.7\n    ).add_to(LV_map_clusters)\n\nLV_map_clusters"
        }, 
        {
            "execution_count": null, 
            "cell_type": "code", 
            "metadata": {}, 
            "outputs": [], 
            "source": ""
        }
    ], 
    "metadata": {
        "kernelspec": {
            "display_name": "Python 3.6", 
            "name": "python3", 
            "language": "python"
        }, 
        "language_info": {
            "mimetype": "text/x-python", 
            "nbconvert_exporter": "python", 
            "version": "3.6.8", 
            "name": "python", 
            "file_extension": ".py", 
            "pygments_lexer": "ipython3", 
            "codemirror_mode": {
                "version": 3, 
                "name": "ipython"
            }
        }
    }, 
    "nbformat": 4
}